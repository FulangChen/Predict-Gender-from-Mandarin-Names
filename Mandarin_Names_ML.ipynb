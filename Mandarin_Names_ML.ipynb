{
  "nbformat": 4,
  "nbformat_minor": 0,
  "metadata": {
    "colab": {
      "name": "Copy of Mandarin-Names-ML.ipynb",
      "provenance": [],
      "collapsed_sections": []
    },
    "kernelspec": {
      "name": "python3",
      "display_name": "Python 3"
    },
    "language_info": {
      "name": "python"
    }
  },
  "cells": [
    {
      "cell_type": "markdown",
      "source": [
        "# Summary\n",
        "\n",
        "* **Predicted gender from Mandarin names** using **various Scikit-Learn classifiers**, using **character frequencies or FastText word embeddings and/or phonotactic features** as features.\n",
        "\n",
        "* Evaluated the models' performance using **F1 and AUC scores, ROC curve and the confusion matrix**.\n",
        "\n",
        "* Achieved **~80% accuracy** using just character frequencies or character embeddings as the feature, and **~60% accuracy** using just the phonotactic features.\n",
        "\n",
        "* Found that models' performance is **not imporved** when character frequencies or character embeddings **and phonotactic features** are used as features."
      ],
      "metadata": {
        "id": "geXUZ_VpjLiX"
      }
    },
    {
      "cell_type": "markdown",
      "source": [
        "# Feature Engineering\n",
        "\n",
        "* Skip this section by downloading and uploading **[Corpus_all_processed.csv](https://drive.google.com/file/d/1YGvPy3uB9_uzt51DQF0UZoTCm8K_M5dj/view?usp=sharing)** to colab.\n",
        "\n",
        "* Otherwise, download and upload **[charfreq.csv](https://drive.google.com/file/d/1HdE2wJFJpj3oZsbJBUwlSzEjzT2N0h3u/view?usp=sharing)** and **[Corpus_processed.csv](https://drive.google.com/file/d/1zZVXsMYruF2-AWFJZUSAj_6SB0ir-zQx/view?usp=sharing)** to colab and run the following code in this section."
      ],
      "metadata": {
        "id": "8iaBzsT8ivdC"
      }
    },
    {
      "cell_type": "markdown",
      "source": [
        "* Load character frequencies dictionary."
      ],
      "metadata": {
        "id": "nGSJjdzncUJU"
      }
    },
    {
      "cell_type": "code",
      "source": [
        "charfreq = {} #char: male_proportion\n",
        "\n",
        "with open('charfreq.csv', 'r') as f: # https://github.com/observerss/ngender/blob/master/ngender/charfreq.csv\n",
        "    f.readline() # skip header\n",
        "    for line in f.readlines():\n",
        "        char, male, female = line.strip().split(',')\n",
        "        charfreq[char] = float(male)/(float(male)+float(female))"
      ],
      "metadata": {
        "id": "4l7pGpQlcJHK"
      },
      "execution_count": null,
      "outputs": []
    },
    {
      "cell_type": "markdown",
      "source": [
        "* Load pretrained FastText Chinese word embeddings."
      ],
      "metadata": {
        "id": "wwHOqLtyalDd"
      }
    },
    {
      "cell_type": "code",
      "source": [
        "!pip install fasttext\n",
        "import fasttext\n",
        "import fasttext.util"
      ],
      "metadata": {
        "id": "oXchoW75T2a_"
      },
      "execution_count": null,
      "outputs": []
    },
    {
      "cell_type": "code",
      "source": [
        "fasttext.util.download_model('zh', if_exists='ignore')  # zh = Chinese\n",
        "ft = fasttext.load_model('cc.zh.300.bin')"
      ],
      "metadata": {
        "id": "sv-Sw2wUUKw-"
      },
      "execution_count": null,
      "outputs": []
    },
    {
      "cell_type": "code",
      "source": [
        "ft.get_word_vector(\"丽\") # beauty; common character in female names"
      ],
      "metadata": {
        "id": "BDDT03cLVMWM"
      },
      "execution_count": null,
      "outputs": []
    },
    {
      "cell_type": "code",
      "source": [
        "ft.get_nearest_neighbors(\"玲\") # tinkling sound; common character in female names"
      ],
      "metadata": {
        "id": "UX5BLCCTROZ3",
        "colab": {
          "base_uri": "https://localhost:8080/"
        },
        "outputId": "f8fee80d-991c-49d1-b7fd-ad265d781d6d"
      },
      "execution_count": null,
      "outputs": [
        {
          "output_type": "execute_result",
          "data": {
            "text/plain": [
              "[(0.4969545304775238, '琪'),\n",
              " (0.4905205965042114, '莉'),\n",
              " (0.48493680357933044, '雯'),\n",
              " (0.4841586947441101, '芊'),\n",
              " (0.4825659692287445, '璇'),\n",
              " (0.4777986407279968, '姗'),\n",
              " (0.4705442488193512, '娟'),\n",
              " (0.47040659189224243, '小玲'),\n",
              " (0.4680013656616211, '琪琪'),\n",
              " (0.46487537026405334, '彤')]"
            ]
          },
          "metadata": {},
          "execution_count": 6
        }
      ]
    },
    {
      "cell_type": "code",
      "source": [
        "ft.get_nearest_neighbors(\"伟\") # great; common character in male names"
      ],
      "metadata": {
        "colab": {
          "base_uri": "https://localhost:8080/"
        },
        "id": "bVG5t4o6o88D",
        "outputId": "6a00b9bb-93b3-4a10-d890-7183719ea8bb"
      },
      "execution_count": null,
      "outputs": [
        {
          "output_type": "execute_result",
          "data": {
            "text/plain": [
              "[(0.4791296422481537, '伟是'),\n",
              " (0.4639599919319153, '志远'),\n",
              " (0.4574549198150635, '奋'),\n",
              " (0.44498583674430847, '华琳'),\n",
              " (0.444376677274704, '的伟'),\n",
              " (0.443287193775177, '庆红'),\n",
              " (0.435908704996109, '康伟'),\n",
              " (0.43396663665771484, '董维'),\n",
              " (0.4319266974925995, '由伟'),\n",
              " (0.43135979771614075, '福财')]"
            ]
          },
          "metadata": {},
          "execution_count": 9
        }
      ]
    },
    {
      "cell_type": "code",
      "source": [
        "import pandas as pd"
      ],
      "metadata": {
        "id": "OASFg6Q989xb"
      },
      "execution_count": 1,
      "outputs": []
    },
    {
      "cell_type": "code",
      "source": [
        "df = pd.read_csv(\"Corpus_processed.csv\") "
      ],
      "metadata": {
        "id": "lwBNUCncUCD1"
      },
      "execution_count": 3,
      "outputs": []
    },
    {
      "cell_type": "markdown",
      "source": [
        "* Add character frequencies and character embeddings columns to corpus. "
      ],
      "metadata": {
        "id": "2Qhyi6hgmpld"
      }
    },
    {
      "cell_type": "code",
      "source": [
        "df['Given1_freq'] = df.apply(lambda row: charfreq.setdefault(row['Given1'], 0.5), axis=1)\n",
        "df['Given2_freq'] = df.apply(lambda row: charfreq.setdefault(row['Given2'], 0.5), axis=1)"
      ],
      "metadata": {
        "id": "RYgMacb0ddSg"
      },
      "execution_count": null,
      "outputs": []
    },
    {
      "cell_type": "code",
      "source": [
        "df['Given1_vec'] = df.apply(lambda row: ft.get_word_vector(row['Given1']), axis = 1)\n",
        "df['Given2_vec'] = df.apply(lambda row: ft.get_word_vector(row['Given2']), axis = 1)"
      ],
      "metadata": {
        "id": "bDxjJzT2XODO"
      },
      "execution_count": null,
      "outputs": []
    },
    {
      "cell_type": "markdown",
      "source": [
        "* Use one hot encodings to encode the pinyin pronunciations of the names and add to corpus."
      ],
      "metadata": {
        "id": "3AdIwdD6V98o"
      }
    },
    {
      "cell_type": "code",
      "source": [
        "from sklearn.preprocessing import OneHotEncoder\n",
        "\n",
        "#creating instance of one-hot-encoder\n",
        "encoder = OneHotEncoder()\n",
        "\n",
        "#perform one-hot encoding on 'team' column \n",
        "encoder_df = pd.DataFrame(encoder.fit_transform(df[['Py1', 'Py2']]).toarray())\n",
        "\n",
        "encoder_df['Py_encodings'] = encoder_df.values.tolist()\n",
        "\n",
        "#merge one-hot encoded columns back with original DataFrame\n",
        "df = df.join(encoder_df['Py_encodings'])"
      ],
      "metadata": {
        "id": "dTTyLWURcCMw"
      },
      "execution_count": null,
      "outputs": []
    },
    {
      "cell_type": "code",
      "source": [
        "import numpy as np"
      ],
      "metadata": {
        "id": "I7AXjB3elo1b"
      },
      "execution_count": null,
      "outputs": []
    },
    {
      "cell_type": "code",
      "source": [
        "df['embeddings'] = df.apply(lambda row: np.concatenate((row['Given1_vec'], row['Given2_vec'])), axis = 1)"
      ],
      "metadata": {
        "id": "lRBKmTMecxeo"
      },
      "execution_count": null,
      "outputs": []
    },
    {
      "cell_type": "markdown",
      "source": [
        "* Add two more columns to corpus."
      ],
      "metadata": {
        "id": "dUTt6FuVeaB_"
      }
    },
    {
      "cell_type": "code",
      "source": [
        "df['1_open_syll_p'] = 1 - df['open_syll_p']\n",
        "df['1_hi_nuc_p'] = 1 - df['hi_nuc_p']"
      ],
      "metadata": {
        "id": "jm8tTG1OeIQ8"
      },
      "execution_count": null,
      "outputs": []
    },
    {
      "cell_type": "markdown",
      "source": [
        "* Save processed corpus."
      ],
      "metadata": {
        "id": "a43p0sJFti-q"
      }
    },
    {
      "cell_type": "code",
      "source": [
        "df.to_csv('Corpus_all_processed.csv')"
      ],
      "metadata": {
        "id": "vHLa9wPaZnp7"
      },
      "execution_count": 8,
      "outputs": []
    },
    {
      "cell_type": "markdown",
      "source": [
        "# Load Processed Corpus"
      ],
      "metadata": {
        "id": "QOSL3FQSpIGm"
      }
    },
    {
      "cell_type": "code",
      "source": [
        "import pandas as pd"
      ],
      "metadata": {
        "id": "F0NiBXKbqUzg"
      },
      "execution_count": 9,
      "outputs": []
    },
    {
      "cell_type": "code",
      "source": [
        "df = pd.read_csv('Corpus_all_processed.csv')"
      ],
      "metadata": {
        "id": "1YrxD_kzpSNw"
      },
      "execution_count": 10,
      "outputs": []
    },
    {
      "cell_type": "code",
      "source": [
        "# Convert embeddings and encodings stored as strings to lists of floats\n",
        "df['embeddings'] = df.apply(lambda row: [float(s) for s in row['embeddings'][1:-1].split()], axis = 1)\n",
        "df['Py_encodings'] = df.apply(lambda row: [float(s) for s in row['Py_encodings'][1:-1].split(',')], axis = 1)"
      ],
      "metadata": {
        "id": "6SCpbCiOzYqr"
      },
      "execution_count": 14,
      "outputs": []
    },
    {
      "cell_type": "markdown",
      "source": [
        "# Features"
      ],
      "metadata": {
        "id": "NkdLLTZ0q0mE"
      }
    },
    {
      "cell_type": "code",
      "source": [
        "# Use just character frequencies\n",
        "X = df[['Given1_freq', 'Given2_freq']].values"
      ],
      "metadata": {
        "id": "WpHCRFi-fRr8"
      },
      "execution_count": 54,
      "outputs": []
    },
    {
      "cell_type": "code",
      "source": [
        "# Use just character embeddings\n",
        "X = df['embeddings'].values.tolist()"
      ],
      "metadata": {
        "id": "caYuRdY5l4lI"
      },
      "execution_count": 49,
      "outputs": []
    },
    {
      "cell_type": "code",
      "source": [
        "# Use just pinyin encodings\n",
        "X = df['Py_encodings'].values.tolist()"
      ],
      "metadata": {
        "id": "R_ZtPK0GcDCq"
      },
      "execution_count": 15,
      "outputs": []
    },
    {
      "cell_type": "code",
      "source": [
        "# Use just phonotactic features \n",
        "X = df[['1_open_syll_p', '1_hi_nuc_p', 'bk_nuc_p', 'rd_nuc_p', 'obsr_ons_p', 'non_cor_ons_p']].values"
      ],
      "metadata": {
        "id": "vANAtLF0fS1J"
      },
      "execution_count": null,
      "outputs": []
    },
    {
      "cell_type": "code",
      "source": [
        "# Use character frequencies and pinyin encodings\n",
        "X = df[['Given1_freq', 'Given2_freq', 'Py_encodings']].values\n",
        "\n",
        "import numpy as np\n",
        "X = [np.concatenate((row[0:2], row[2])) for row in X]\n",
        "X = [[float(num) for num in row] for row in X]"
      ],
      "metadata": {
        "id": "HnBdrh93cjzy"
      },
      "execution_count": 29,
      "outputs": []
    },
    {
      "cell_type": "code",
      "source": [
        "# Use character frequencies and phonotactic features\n",
        "X = df[['Given1_freq', 'Given2_freq', '1_open_syll_p', '1_hi_nuc_p', 'bk_nuc_p', 'rd_nuc_p', 'obsr_ons_p', 'non_cor_ons_p']].values"
      ],
      "metadata": {
        "id": "WzsyMIoPfxcC"
      },
      "execution_count": null,
      "outputs": []
    },
    {
      "cell_type": "code",
      "source": [
        "# Use character embeddings and pinyin encodings\n",
        "X = df[['embeddings', 'Py_encodings']].values\n",
        "\n",
        "import numpy as np\n",
        "X = [np.concatenate((row[0], row[1])) for row in X]\n",
        "X = [[float(num) for num in row] for row in X]"
      ],
      "metadata": {
        "id": "Y06BEwtQcnvW"
      },
      "execution_count": 41,
      "outputs": []
    },
    {
      "cell_type": "code",
      "source": [
        "# Use character embeddings and phonotaictic features\n",
        "X = df[['embeddings', '1_open_syll_p', '1_hi_nuc_p', 'bk_nuc_p', 'rd_nuc_p', 'obsr_ons_p', 'non_cor_ons_p']].values\n",
        "\n",
        "import numpy as np\n",
        "X = [np.concatenate((row[0], row[1:])) for row in X]\n",
        "X = [[float(num) for num in row] for row in X]"
      ],
      "metadata": {
        "id": "-Gh7MkKGo1Uh"
      },
      "execution_count": null,
      "outputs": []
    },
    {
      "cell_type": "markdown",
      "source": [
        "# Label"
      ],
      "metadata": {
        "id": "1F096V65q7sm"
      }
    },
    {
      "cell_type": "code",
      "source": [
        "y = df['Gender'].values"
      ],
      "metadata": {
        "id": "X_2fW3iSp005"
      },
      "execution_count": 55,
      "outputs": []
    },
    {
      "cell_type": "markdown",
      "source": [
        "# Train-Test Split"
      ],
      "metadata": {
        "id": "HHJOEK7ws4Ch"
      }
    },
    {
      "cell_type": "code",
      "source": [
        "from sklearn.model_selection import train_test_split"
      ],
      "metadata": {
        "id": "gkTUFpsRs3gF"
      },
      "execution_count": 37,
      "outputs": []
    },
    {
      "cell_type": "code",
      "source": [
        "X_train, X_test, y_train, y_test = train_test_split(X, y, test_size = 0.3, random_state = 100, stratify = y)"
      ],
      "metadata": {
        "id": "FM5B1HqGt2ye"
      },
      "execution_count": 56,
      "outputs": []
    },
    {
      "cell_type": "markdown",
      "source": [
        "# Helper Functions  ...\n",
        "... to evaluate the performance of ML models"
      ],
      "metadata": {
        "id": "-_GGr-2dq_HK"
      }
    },
    {
      "cell_type": "code",
      "source": [
        "from sklearn.metrics import f1_score\n",
        "from sklearn.metrics import roc_auc_score\n",
        "import matplotlib.pyplot as plt\n",
        "from sklearn.metrics import roc_curve\n",
        "from sklearn.metrics import ConfusionMatrixDisplay"
      ],
      "metadata": {
        "id": "x6-jqumIqIWd"
      },
      "execution_count": 39,
      "outputs": []
    },
    {
      "cell_type": "code",
      "source": [
        "def print_scores(clf, X_train, y_train, X_test, y_test):\n",
        "    clf.fit(X_train, y_train)\n",
        "    y_pred = clf.predict(X_test)\n",
        "    print('F1 score: {:3f}'.format(f1_score(y_test, y_pred)))\n",
        "    print('AUC score: {:3f}'.format(roc_auc_score(y_test, y_pred)))"
      ],
      "metadata": {
        "id": "Pw6vVbs0sf69"
      },
      "execution_count": 20,
      "outputs": []
    },
    {
      "cell_type": "code",
      "source": [
        "def visualize_performance(clf, X_test, y_test):\n",
        "    y_pred = clf.predict(X_test)\n",
        "    fpr, tpr, _ = roc_curve(y_test, y_pred)\n",
        "    plt.plot(fpr, tpr)\n",
        "    plt.xlabel('FPR')\n",
        "    plt.ylabel('TPR')\n",
        "    plt.show()\n",
        "    ConfusionMatrixDisplay.from_estimator(clf, X_test, y_test)\n",
        "    plt.show()"
      ],
      "metadata": {
        "id": "w0dSHwh4stCf"
      },
      "execution_count": 21,
      "outputs": []
    },
    {
      "cell_type": "markdown",
      "source": [
        "# Scikit-Learn Classifiers"
      ],
      "metadata": {
        "id": "BiwnCGWqntec"
      }
    },
    {
      "cell_type": "markdown",
      "source": [
        "## Naive Bayes Classifier"
      ],
      "metadata": {
        "id": "RDXq_ihOm_Ri"
      }
    },
    {
      "cell_type": "code",
      "source": [
        "from sklearn.naive_bayes import GaussianNB\n",
        "gnb = GaussianNB()\n",
        "print_scores(gnb, X_train, y_train, X_test, y_test)\n",
        "visualize_performance(gnb, X_test, y_test)"
      ],
      "metadata": {
        "colab": {
          "base_uri": "https://localhost:8080/",
          "height": 575
        },
        "id": "HPnK507gm-O8",
        "outputId": "6d23ad31-ebb1-43b2-c343-12d256f4330d"
      },
      "execution_count": 57,
      "outputs": [
        {
          "output_type": "stream",
          "name": "stdout",
          "text": [
            "F1 score: 0.825672\n",
            "AUC score: 0.816173\n"
          ]
        },
        {
          "output_type": "display_data",
          "data": {
            "text/plain": [
              "<Figure size 432x288 with 1 Axes>"
            ],
            "image/png": "[encoded data removed]"
          },
          "metadata": {
            "needs_background": "light"
          }
        },
        {
          "output_type": "display_data",
          "data": {
            "text/plain": [
              "<Figure size 432x288 with 2 Axes>"
            ],
            "image/png": "[encoded data removed]"
          },
          "metadata": {
            "needs_background": "light"
          }
        }
      ]
    },
    {
      "cell_type": "markdown",
      "source": [
        "## Logistic Regression"
      ],
      "metadata": {
        "id": "xyTfcrUHt7e1"
      }
    },
    {
      "cell_type": "code",
      "source": [
        "from sklearn.linear_model import LogisticRegression\n",
        "lr = LogisticRegression()\n",
        "print_scores(lr, X_train, y_train, X_test, y_test)\n",
        "visualize_performance(lr, X_test, y_test)"
      ],
      "metadata": {
        "colab": {
          "base_uri": "https://localhost:8080/",
          "height": 575
        },
        "id": "LwBx_PCnt8A-",
        "outputId": "04a9d110-9d38-407c-f46d-e797f03a440b"
      },
      "execution_count": 58,
      "outputs": [
        {
          "output_type": "stream",
          "name": "stdout",
          "text": [
            "F1 score: 0.828696\n",
            "AUC score: 0.823003\n"
          ]
        },
        {
          "output_type": "display_data",
          "data": {
            "text/plain": [
              "<Figure size 432x288 with 1 Axes>"
            ],
            "image/png": "[encoded data removed]"
          },
          "metadata": {
            "needs_background": "light"
          }
        },
        {
          "output_type": "display_data",
          "data": {
            "text/plain": [
              "<Figure size 432x288 with 2 Axes>"
            ],
            "image/png": "[encoded data removed]"
          },
          "metadata": {
            "needs_background": "light"
          }
        }
      ]
    },
    {
      "cell_type": "markdown",
      "source": [
        "## Ridge Classifier"
      ],
      "metadata": {
        "id": "1mK7iftYuouu"
      }
    },
    {
      "cell_type": "code",
      "source": [
        "from sklearn.linear_model import RidgeClassifier\n",
        "rc = RidgeClassifier()\n",
        "print_scores(rc, X_train, y_train, X_test, y_test)\n",
        "visualize_performance(rc, X_test, y_test)"
      ],
      "metadata": {
        "colab": {
          "base_uri": "https://localhost:8080/",
          "height": 575
        },
        "id": "7o5NFPTAupKG",
        "outputId": "b866ecb1-0e06-4349-b74f-89a714938608"
      },
      "execution_count": 59,
      "outputs": [
        {
          "output_type": "stream",
          "name": "stdout",
          "text": [
            "F1 score: 0.830653\n",
            "AUC score: 0.820815\n"
          ]
        },
        {
          "output_type": "display_data",
          "data": {
            "text/plain": [
              "<Figure size 432x288 with 1 Axes>"
            ],
            "image/png": "[encoded data removed]"
          },
          "metadata": {
            "needs_background": "light"
          }
        },
        {
          "output_type": "display_data",
          "data": {
            "text/plain": [
              "<Figure size 432x288 with 2 Axes>"
            ],
            "image/png": "[encoded data removed]"
          },
          "metadata": {
            "needs_background": "light"
          }
        }
      ]
    },
    {
      "cell_type": "markdown",
      "source": [
        "## Support Vector Classifier"
      ],
      "metadata": {
        "id": "511F1N7WvSK7"
      }
    },
    {
      "cell_type": "code",
      "source": [
        "from sklearn.svm import SVC\n",
        "svc = SVC()\n",
        "print_scores(svc, X_train, y_train, X_test, y_test)\n",
        "visualize_performance(svc, X_test, y_test)"
      ],
      "metadata": {
        "colab": {
          "base_uri": "https://localhost:8080/",
          "height": 575
        },
        "id": "MFjFmEH8vSZs",
        "outputId": "0903cbcc-5737-4cd3-94d7-0f375a259402"
      },
      "execution_count": 60,
      "outputs": [
        {
          "output_type": "stream",
          "name": "stdout",
          "text": [
            "F1 score: 0.831710\n",
            "AUC score: 0.821846\n"
          ]
        },
        {
          "output_type": "display_data",
          "data": {
            "text/plain": [
              "<Figure size 432x288 with 1 Axes>"
            ],
            "image/png": "[encoded data removed]"
          },
          "metadata": {
            "needs_background": "light"
          }
        },
        {
          "output_type": "display_data",
          "data": {
            "text/plain": [
              "<Figure size 432x288 with 2 Axes>"
            ],
            "image/png": "[encoded data removed]"
          },
          "metadata": {
            "needs_background": "light"
          }
        }
      ]
    },
    {
      "cell_type": "markdown",
      "source": [
        "## K Neighbors Classifier"
      ],
      "metadata": {
        "id": "EX4ltepWux6V"
      }
    },
    {
      "cell_type": "code",
      "source": [
        "from sklearn.neighbors import KNeighborsClassifier\n",
        "knn = KNeighborsClassifier()\n",
        "print_scores(knn, X_train, y_train, X_test, y_test)\n",
        "visualize_performance(knn, X_test, y_test)"
      ],
      "metadata": {
        "colab": {
          "base_uri": "https://localhost:8080/",
          "height": 575
        },
        "id": "yD4k7uHkuyLb",
        "outputId": "2b8bf4ba-50c4-4e96-eaac-cebd95f48839"
      },
      "execution_count": 61,
      "outputs": [
        {
          "output_type": "stream",
          "name": "stdout",
          "text": [
            "F1 score: 0.813234\n",
            "AUC score: 0.809336\n"
          ]
        },
        {
          "output_type": "display_data",
          "data": {
            "text/plain": [
              "<Figure size 432x288 with 1 Axes>"
            ],
            "image/png": "[encoded data removed]"
          },
          "metadata": {
            "needs_background": "light"
          }
        },
        {
          "output_type": "display_data",
          "data": {
            "text/plain": [
              "<Figure size 432x288 with 2 Axes>"
            ],
            "image/png": "[encoded data removed]"
          },
          "metadata": {
            "needs_background": "light"
          }
        }
      ]
    },
    {
      "cell_type": "markdown",
      "source": [
        "## Decision Tree Classifier"
      ],
      "metadata": {
        "id": "CxZQIL2Bvk6P"
      }
    },
    {
      "cell_type": "code",
      "source": [
        "from sklearn.tree import DecisionTreeClassifier\n",
        "dtc = DecisionTreeClassifier()\n",
        "print_scores(dtc, X_train, y_train, X_test, y_test)\n",
        "visualize_performance(dtc, X_test, y_test)"
      ],
      "metadata": {
        "colab": {
          "base_uri": "https://localhost:8080/",
          "height": 576
        },
        "id": "DGDT6nIMvlJB",
        "outputId": "5b349f46-0513-40bb-9f3b-8b4877bab24f"
      },
      "execution_count": 62,
      "outputs": [
        {
          "output_type": "stream",
          "name": "stdout",
          "text": [
            "F1 score: 0.754219\n",
            "AUC score: 0.759698\n"
          ]
        },
        {
          "output_type": "display_data",
          "data": {
            "text/plain": [
              "<Figure size 432x288 with 1 Axes>"
            ],
            "image/png": "[encoded data removed]"
          },
          "metadata": {
            "needs_background": "light"
          }
        },
        {
          "output_type": "display_data",
          "data": {
            "text/plain": [
              "<Figure size 432x288 with 2 Axes>"
            ],
            "image/png": "[encoded data removed]"
          },
          "metadata": {
            "needs_background": "light"
          }
        }
      ]
    },
    {
      "cell_type": "markdown",
      "source": [
        "## Random Forest Classifier"
      ],
      "metadata": {
        "id": "PrxGBcEEu5HJ"
      }
    },
    {
      "cell_type": "code",
      "source": [
        "from sklearn.ensemble import RandomForestClassifier\n",
        "rf = RandomForestClassifier()\n",
        "print_scores(rf, X_train, y_train, X_test, y_test)\n",
        "visualize_performance(rf, X_test, y_test)"
      ],
      "metadata": {
        "colab": {
          "base_uri": "https://localhost:8080/",
          "height": 575
        },
        "id": "DDl3t3-Zu5VK",
        "outputId": "a373421d-974e-4d0a-a20e-8df1e7cfa6e1"
      },
      "execution_count": 63,
      "outputs": [
        {
          "output_type": "stream",
          "name": "stdout",
          "text": [
            "F1 score: 0.798882\n",
            "AUC score: 0.795928\n"
          ]
        },
        {
          "output_type": "display_data",
          "data": {
            "text/plain": [
              "<Figure size 432x288 with 1 Axes>"
            ],
            "image/png": "[encoded data removed]"
          },
          "metadata": {
            "needs_background": "light"
          }
        },
        {
          "output_type": "display_data",
          "data": {
            "text/plain": [
              "<Figure size 432x288 with 2 Axes>"
            ],
            "image/png": "[encoded data removed]"
          },
          "metadata": {
            "needs_background": "light"
          }
        }
      ]
    },
    {
      "cell_type": "markdown",
      "source": [
        "## Multi-Layer Perceptron Classifier"
      ],
      "metadata": {
        "id": "Q2SDTU4LvtqN"
      }
    },
    {
      "cell_type": "code",
      "source": [
        "from sklearn.neural_network import MLPClassifier\n",
        "mlp = MLPClassifier()\n",
        "print_scores(mlp, X_train, y_train, X_test, y_test)\n",
        "visualize_performance(mlp, X_test, y_test)"
      ],
      "metadata": {
        "colab": {
          "base_uri": "https://localhost:8080/",
          "height": 575
        },
        "id": "IwOQS-TJvt_h",
        "outputId": "64357e20-9e76-4793-f6cd-0a6026427da0"
      },
      "execution_count": 64,
      "outputs": [
        {
          "output_type": "stream",
          "name": "stdout",
          "text": [
            "F1 score: 0.830082\n",
            "AUC score: 0.822618\n"
          ]
        },
        {
          "output_type": "display_data",
          "data": {
            "text/plain": [
              "<Figure size 432x288 with 1 Axes>"
            ],
            "image/png": "[encoded data removed]"
          },
          "metadata": {
            "needs_background": "light"
          }
        },
        {
          "output_type": "display_data",
          "data": {
            "text/plain": [
              "<Figure size 432x288 with 2 Axes>"
            ],
            "image/png": "[encoded data removed]"
          },
          "metadata": {
            "needs_background": "light"
          }
        }
      ]
    }
  ]
}