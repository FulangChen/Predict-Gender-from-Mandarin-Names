{
  "nbformat": 4,
  "nbformat_minor": 0,
  "metadata": {
    "colab": {
      "name": "Mandarin-Names-Phonotactics.ipynb",
      "provenance": [],
      "collapsed_sections": []
    },
    "kernelspec": {
      "name": "python3",
      "display_name": "Python 3"
    },
    "language_info": {
      "name": "python"
    }
  },
  "cells": [
    {
      "cell_type": "markdown",
      "source": [
        "# Summary\n",
        "\n",
        "* Investigated the **phonotactic patterns that correlate with gender** in given names for Mandarin Chinese.\n",
        "\n",
        "* Found that for Mandarin, **female names** have a **higher proportion of open syllables and high vowel nuclei**, while **male names** have a **higher proportion of back vowel nuclei, round vowel nuclei, obstruent onsets, and non-coronal onsets**, conforming to cross-linguistic patterns."
      ],
      "metadata": {
        "id": "8fNLkgpq0WZ7"
      }
    },
    {
      "cell_type": "markdown",
      "source": [
        "# Preparation"
      ],
      "metadata": {
        "id": "6Itug4Il4cKn"
      }
    },
    {
      "cell_type": "code",
      "execution_count": null,
      "metadata": {
        "colab": {
          "base_uri": "https://localhost:8080/"
        },
        "id": "MHB7JCtfw4m1",
        "outputId": "d24cfc06-315b-4561-a77b-59048f2cc17a"
      },
      "outputs": [
        {
          "output_type": "stream",
          "name": "stdout",
          "text": [
            "Cloning into 'Predict-Gender-from-Mandarin-Names'...\n",
            "remote: Enumerating objects: 9, done.\u001b[K\n",
            "remote: Counting objects: 100% (9/9), done.\u001b[K\n",
            "remote: Compressing objects: 100% (8/8), done.\u001b[K\n",
            "remote: Total 9 (delta 0), reused 9 (delta 0), pack-reused 0\u001b[K\n",
            "Unpacking objects: 100% (9/9), done.\n"
          ]
        }
      ],
      "source": [
        "! git clone https://github.com/FulangChen/Predict-Gender-from-Mandarin-Names"
      ]
    },
    {
      "cell_type": "code",
      "source": [
        "import re"
      ],
      "metadata": {
        "id": "IXuid14t0Wy6"
      },
      "execution_count": null,
      "outputs": []
    },
    {
      "cell_type": "markdown",
      "source": [
        "* Function to remove tone in pinyin"
      ],
      "metadata": {
        "id": "wyTti9w15Rdx"
      }
    },
    {
      "cell_type": "code",
      "source": [
        "def rmv_tone(py):\n",
        "    py = re.sub(r'[āáǎà]', 'a', py)\n",
        "    py = re.sub(r'[ēéěè]', 'e', py)\n",
        "    py = re.sub(r'[īíǐì]', 'i', py)\n",
        "    py = re.sub(r'[ōóǒò]', 'o', py)\n",
        "    py = re.sub(r'[ūúǔù]', 'u', py)\n",
        "    py = re.sub(r'[ǘǚǜ]', 'ü', py)\n",
        "    return py"
      ],
      "metadata": {
        "id": "Yn-nU6v_3T9M"
      },
      "execution_count": null,
      "outputs": []
    },
    {
      "cell_type": "markdown",
      "source": [
        "* Load py2ipa dictionary"
      ],
      "metadata": {
        "id": "rWaidMqa5Qcq"
      }
    },
    {
      "cell_type": "code",
      "source": [
        "py2ipa = {}\n",
        "\n",
        "with open('/content/Predict-Gender-from-Mandarin-Names/py2ipa.txt', 'r') as f:\n",
        "    for line in f.readlines():\n",
        "        py, ipa = line.strip().split(',')\n",
        "        py2ipa[py] = ipa"
      ],
      "metadata": {
        "id": "gufMDyuL3o2M"
      },
      "execution_count": null,
      "outputs": []
    },
    {
      "cell_type": "markdown",
      "source": [
        "# Phonotactic Features\n",
        "\n",
        "* **Open-syllable Proportion**: the number of open syllables divided by the total number of syllables in the name\n",
        "\n",
        "* **High-Nucleus Proportion**: the number of [+high] nuclear vowels divided by the total number of nuclear vowels in the name\n",
        "\n",
        "* **Back-Nucleus Proportion**: the number of [+back] nuclear vowels divided by the total number of nuclear vowels in the name\n",
        "\n",
        "* **Round-Nucleus Proportion**: the number of [+round] nuclear vowels divided by the total number of nuclear vowels in the name\n",
        "\n",
        "* **Obstruent-Onset Proportion**: the number of obstruent onsets divided by the total number of onset consonants in the name\n",
        "    \n",
        "* **Non-Coronal-Onset Proportion**: the number of [-coronal] onsets divided by the total number of onset consonants in the name\n"
      ],
      "metadata": {
        "id": "L5k1dy5n4nYf"
      }
    },
    {
      "cell_type": "code",
      "source": [
        "patterns = {\n",
        "    'open_syll': r'\\w*[^nŋr0]\\b', \n",
        "    'hi_nuc': r'[iyu]',\n",
        "    'bk_nuc': r'[ɤɑuo]',\n",
        "    'rd_nuc': r'[yuo]',\n",
        "    'has_ons': r'\\b[^iyueɛəɤoaɑjɥw0]\\w*',\n",
        "    'obsr_ons': r'\\b(pʰ|p|f|tʰ|t|ʐ|tʂʰ|tʂ|ʂ|tsʰ|ts|s|tɕʰ|tɕ|ɕ|kʰ|k|x)\\w*',\n",
        "    'non_cor_ons': r'\\b(pʰ|p|f|kʰ|k|x|m|ŋ)\\w*',\n",
        "}\n",
        "\n",
        "def proportion(pattern, ipa1, ipa2, denominator):\n",
        "    ct = sum([1 for ipa in [ipa1, ipa2] if re.search(patterns[pattern], ipa)])\n",
        "    return ct / denominator if denominator != 0 else 0"
      ],
      "metadata": {
        "id": "JT3qozry3_ck"
      },
      "execution_count": null,
      "outputs": []
    },
    {
      "cell_type": "markdown",
      "source": [
        "# Process Corpus\n"
      ],
      "metadata": {
        "id": "roy1y_cK5iVf"
      }
    },
    {
      "cell_type": "code",
      "source": [
        "f = open('/content/Predict-Gender-from-Mandarin-Names/Chinese_Celebrities_Names.csv', 'r')\n",
        "corpus = open('Corpus_processed.csv', 'w') # same as /content/Predict-Gender-from-Mandarin-Names/Corpus_processed.csv\n",
        "\n",
        "header = ['Given1', 'Given2', 'Gender', 'Py1', 'Py2', 'IPA1', 'IPA2', \\\n",
        "          'open_syll_p', 'hi_nuc_p', 'bk_nuc_p', 'rd_nuc_p', 'ons_p', \\\n",
        "          'obsr_ons_p', 'non_cor_ons_p']\n",
        "    \n",
        "corpus.write(','.join(header) + '\\n')\n",
        "\n",
        "\n",
        "f.readline() # Skip header\n",
        "\n",
        "for line in f.readlines():\n",
        "    line = line.strip().split(',')\n",
        "    \n",
        "    Given1 = line[6].strip()\n",
        "    \n",
        "    Py1, Py2 = line[9].strip(), line[14].strip()\n",
        "    \n",
        "    # Amend systematic data entry errors\n",
        "    Given2 = line[11].strip() if Py2 != '0' else '0' \n",
        "    \n",
        "    Gender = '0' if line[1] == '女' else '1'\n",
        "    \n",
        "    IPA1 = py2ipa[rmv_tone(Py1)] \n",
        "    IPA2 = py2ipa[rmv_tone(Py2)] if Py2 != '0' else '0'\n",
        "    \n",
        "    num_syll = 1 if IPA2 == '0' else 2\n",
        "    \n",
        "    P1 = proportion('open_syll', IPA1, IPA2, num_syll)\n",
        "    P2 = proportion('hi_nuc', IPA1, IPA2, num_syll)\n",
        "    P3 = proportion('bk_nuc', IPA1, IPA2, num_syll)\n",
        "    P4 = proportion('rd_nuc', IPA1, IPA2, num_syll)\n",
        "    P5 = proportion('has_ons', IPA1, IPA2, num_syll)\n",
        "    P6 = proportion('obsr_ons', IPA1, IPA2, P5 * num_syll)\n",
        "    P7 = proportion('non_cor_ons', IPA1, IPA2, P5 * num_syll)\n",
        "    \n",
        "    new_line = [Given1, Given2, Gender, Py1, Py2, IPA1, IPA2, str(P1), str(P2), \\\n",
        "                str(P3), str(P4), str(P5), str(P6), str(P7)] \n",
        "    corpus.write(','.join(new_line) + '\\n')\n",
        "   \n",
        "f.close()\n",
        "corpus.close()"
      ],
      "metadata": {
        "id": "oWo7UOy54TgZ"
      },
      "execution_count": null,
      "outputs": []
    },
    {
      "cell_type": "markdown",
      "source": [
        "# Results"
      ],
      "metadata": {
        "id": "6X1gQwv46Z22"
      }
    },
    {
      "cell_type": "code",
      "source": [
        "import pandas as pd"
      ],
      "metadata": {
        "id": "hWIQ1SMR6P_H"
      },
      "execution_count": null,
      "outputs": []
    },
    {
      "cell_type": "code",
      "source": [
        "df = pd.read_csv(\"Corpus_processed.csv\") "
      ],
      "metadata": {
        "id": "Fu2ZRZI_7WCN"
      },
      "execution_count": null,
      "outputs": []
    },
    {
      "cell_type": "code",
      "source": [
        "df.groupby('Gender').mean() # 0 = female; 1 = male"
      ],
      "metadata": {
        "colab": {
          "base_uri": "https://localhost:8080/",
          "height": 142
        },
        "id": "OuVAtPqJ7k86",
        "outputId": "1b0e9eab-b62c-41dc-85c6-75db5946dee3"
      },
      "execution_count": null,
      "outputs": [
        {
          "output_type": "execute_result",
          "data": {
            "text/plain": [
              "        open_syll_p  hi_nuc_p  bk_nuc_p  rd_nuc_p     ons_p  obsr_ons_p  \\\n",
              "Gender                                                                    \n",
              "0          0.494508  0.416306  0.136912  0.169129  0.787090    0.746790   \n",
              "1          0.450804  0.370862  0.204324  0.210860  0.835473    0.845104   \n",
              "\n",
              "        non_cor_ons_p  \n",
              "Gender                 \n",
              "0            0.274752  \n",
              "1            0.301555  "
            ],
            "text/html": [
              "\n",
              "  <div id=\"df-4889b4cb-12f1-43d8-9130-e76452464c94\">\n",
              "    <div class=\"colab-df-container\">\n",
              "      <div>\n",
              "<style scoped>\n",
              "    .dataframe tbody tr th:only-of-type {\n",
              "        vertical-align: middle;\n",
              "    }\n",
              "\n",
              "    .dataframe tbody tr th {\n",
              "        vertical-align: top;\n",
              "    }\n",
              "\n",
              "    .dataframe thead th {\n",
              "        text-align: right;\n",
              "    }\n",
              "</style>\n",
              "<table border=\"1\" class=\"dataframe\">\n",
              "  <thead>\n",
              "    <tr style=\"text-align: right;\">\n",
              "      <th></th>\n",
              "      <th>open_syll_p</th>\n",
              "      <th>hi_nuc_p</th>\n",
              "      <th>bk_nuc_p</th>\n",
              "      <th>rd_nuc_p</th>\n",
              "      <th>ons_p</th>\n",
              "      <th>obsr_ons_p</th>\n",
              "      <th>non_cor_ons_p</th>\n",
              "    </tr>\n",
              "    <tr>\n",
              "      <th>Gender</th>\n",
              "      <th></th>\n",
              "      <th></th>\n",
              "      <th></th>\n",
              "      <th></th>\n",
              "      <th></th>\n",
              "      <th></th>\n",
              "      <th></th>\n",
              "    </tr>\n",
              "  </thead>\n",
              "  <tbody>\n",
              "    <tr>\n",
              "      <th>0</th>\n",
              "      <td>0.494508</td>\n",
              "      <td>0.416306</td>\n",
              "      <td>0.136912</td>\n",
              "      <td>0.169129</td>\n",
              "      <td>0.787090</td>\n",
              "      <td>0.746790</td>\n",
              "      <td>0.274752</td>\n",
              "    </tr>\n",
              "    <tr>\n",
              "      <th>1</th>\n",
              "      <td>0.450804</td>\n",
              "      <td>0.370862</td>\n",
              "      <td>0.204324</td>\n",
              "      <td>0.210860</td>\n",
              "      <td>0.835473</td>\n",
              "      <td>0.845104</td>\n",
              "      <td>0.301555</td>\n",
              "    </tr>\n",
              "  </tbody>\n",
              "</table>\n",
              "</div>\n",
              "      <button class=\"colab-df-convert\" onclick=\"convertToInteractive('df-4889b4cb-12f1-43d8-9130-e76452464c94')\"\n",
              "              title=\"Convert this dataframe to an interactive table.\"\n",
              "              style=\"display:none;\">\n",
              "        \n",
              "  <svg xmlns=\"http://www.w3.org/2000/svg\" height=\"24px\"viewBox=\"0 0 24 24\"\n",
              "       width=\"24px\">\n",
              "    <path d=\"M0 0h24v24H0V0z\" fill=\"none\"/>\n",
              "    <path d=\"M18.56 5.44l.94 2.06.94-2.06 2.06-.94-2.06-.94-.94-2.06-.94 2.06-2.06.94zm-11 1L8.5 8.5l.94-2.06 2.06-.94-2.06-.94L8.5 2.5l-.94 2.06-2.06.94zm10 10l.94 2.06.94-2.06 2.06-.94-2.06-.94-.94-2.06-.94 2.06-2.06.94z\"/><path d=\"M17.41 7.96l-1.37-1.37c-.4-.4-.92-.59-1.43-.59-.52 0-1.04.2-1.43.59L10.3 9.45l-7.72 7.72c-.78.78-.78 2.05 0 2.83L4 21.41c.39.39.9.59 1.41.59.51 0 1.02-.2 1.41-.59l7.78-7.78 2.81-2.81c.8-.78.8-2.07 0-2.86zM5.41 20L4 18.59l7.72-7.72 1.47 1.35L5.41 20z\"/>\n",
              "  </svg>\n",
              "      </button>\n",
              "      \n",
              "  <style>\n",
              "    .colab-df-container {\n",
              "      display:flex;\n",
              "      flex-wrap:wrap;\n",
              "      gap: 12px;\n",
              "    }\n",
              "\n",
              "    .colab-df-convert {\n",
              "      background-color: #E8F0FE;\n",
              "      border: none;\n",
              "      border-radius: 50%;\n",
              "      cursor: pointer;\n",
              "      display: none;\n",
              "      fill: #1967D2;\n",
              "      height: 32px;\n",
              "      padding: 0 0 0 0;\n",
              "      width: 32px;\n",
              "    }\n",
              "\n",
              "    .colab-df-convert:hover {\n",
              "      background-color: #E2EBFA;\n",
              "      box-shadow: 0px 1px 2px rgba(60, 64, 67, 0.3), 0px 1px 3px 1px rgba(60, 64, 67, 0.15);\n",
              "      fill: #174EA6;\n",
              "    }\n",
              "\n",
              "    [theme=dark] .colab-df-convert {\n",
              "      background-color: #3B4455;\n",
              "      fill: #D2E3FC;\n",
              "    }\n",
              "\n",
              "    [theme=dark] .colab-df-convert:hover {\n",
              "      background-color: #434B5C;\n",
              "      box-shadow: 0px 1px 3px 1px rgba(0, 0, 0, 0.15);\n",
              "      filter: drop-shadow(0px 1px 2px rgba(0, 0, 0, 0.3));\n",
              "      fill: #FFFFFF;\n",
              "    }\n",
              "  </style>\n",
              "\n",
              "      <script>\n",
              "        const buttonEl =\n",
              "          document.querySelector('#df-4889b4cb-12f1-43d8-9130-e76452464c94 button.colab-df-convert');\n",
              "        buttonEl.style.display =\n",
              "          google.colab.kernel.accessAllowed ? 'block' : 'none';\n",
              "\n",
              "        async function convertToInteractive(key) {\n",
              "          const element = document.querySelector('#df-4889b4cb-12f1-43d8-9130-e76452464c94');\n",
              "          const dataTable =\n",
              "            await google.colab.kernel.invokeFunction('convertToInteractive',\n",
              "                                                     [key], {});\n",
              "          if (!dataTable) return;\n",
              "\n",
              "          const docLinkHtml = 'Like what you see? Visit the ' +\n",
              "            '<a target=\"_blank\" href=https://colab.research.google.com/notebooks/data_table.ipynb>data table notebook</a>'\n",
              "            + ' to learn more about interactive tables.';\n",
              "          element.innerHTML = '';\n",
              "          dataTable['output_type'] = 'display_data';\n",
              "          await google.colab.output.renderOutput(dataTable, element);\n",
              "          const docLink = document.createElement('div');\n",
              "          docLink.innerHTML = docLinkHtml;\n",
              "          element.appendChild(docLink);\n",
              "        }\n",
              "      </script>\n",
              "    </div>\n",
              "  </div>\n",
              "  "
            ]
          },
          "metadata": {},
          "execution_count": 10
        }
      ]
    }
  ]
}